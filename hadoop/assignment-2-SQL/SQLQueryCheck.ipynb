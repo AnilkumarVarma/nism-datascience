{
 "cells": [
  {
   "cell_type": "code",
   "execution_count": 1,
   "metadata": {},
   "outputs": [
    {
     "name": "stdout",
     "output_type": "stream",
     "text": [
      "[(882966, 'Mrs', 'Gwyn', 'E', 'Etzel', 'F', 'gwynetzel@aolcom', 'Sebastian Etzel', 'Joshua Etzel', 'Marden', '5/20/1970', '02:36:41 PM', 4722, 60, '3/1/2012', 'Q1', 'H1', 2012, 3, 'March', 'Mar', 1, 'Thursday', 'Thu', 541, 120580, '14%', '640-29-9264', '405-775-9884', 'Bromide', 'Johnston', 'Bromide', 'OK', 74530, 'South', 'geetzel', 'c@sLdGgxI[sE|aJ'), (189028, 'Ms', 'Ressie', 'I', 'Goodwyn', 'F', 'ressiegoodwyn@charternet', 'Lucien Goodwyn', 'Sparkle Goodwyn', 'Lotts', '5/2/1959', '12:37:29 AM', 5828, 43, '12/6/1990', 'Q4', 'H2', 1990, 12, 'December', 'Dec', 6, 'Thursday', 'Thu', 2666, 74088, '8%', '375-37-8517', '212-786-7533', 'Reading Center', 'Schuyler', 'Reading Center', 'NY', 14876, 'Northeast', 'rigoodwyn', '51CEPJ]r'), (479122, 'Mr', 'Colton', 'B', 'Salzman', 'M', 'coltonsalzman@hotmailcom', 'Dennis Salzman', 'Leesa Salzman', 'Slattery', '9/30/1987', '10:03:01 AM', 2985, 64, '9/29/2009', 'Q3', 'H2', 2009, 9, 'September', 'Sep', 29, 'Tuesday', 'Tue', 783, 191052, '29%', '073-02-5563', '385-775-0225', 'Ibapah', 'Tooele', 'Ibapah', 'UT', 84034, 'West', 'cbsalzman', 'l!Hspr@#$Dk7sq'), (484002, 'Ms', 'Marylynn', 'G', 'Ealey', 'F', 'marylynnealey@coxnet', 'Efren Ealey', 'Kayleen Ealey', 'Gandara', '8/6/1971', '09:47:31 PM', 4601, 45, '7/14/2011', 'Q3', 'H2', 2011, 7, 'July', 'Jul', 14, 'Thursday', 'Thu', 604, 57691, '15%', '106-98-7919', '216-984-8974', 'Wickliffe', 'Lake', 'Wickliffe', 'OH', 44092, 'Midwest', 'mgealey', 'QeJJ:vj6'), (677207, 'Ms', 'Bula', 'V', 'Reich', 'F', 'bulareich@gmailcom', 'Dominic Reich', 'Daphne Reich', 'Lister', '4/21/1971', '12:48:20 AM', 463, 42, '5/10/2008', 'Q2', 'H1', 2008, 5, 'May', 'May', 10, 'Saturday', 'Sat', 922, 155184, '4%', '753-07-4655', '217-307-8597', 'Forrest', 'Livingston', 'Forrest', 'IL', 61741, 'Midwest', 'bvreich', '6_<OFxu\\\\]')]\n"
     ]
    }
   ],
   "source": [
    "import csv, sqlite3, pandas\n",
    "con = sqlite3.connect(\":memory:\")\n",
    "cur = con.cursor()\n",
    "cur.execute(\"CREATE TABLE anil_employee_table ( empid INT NULL, nameprefix VARCHAR(4) NULL, firstname VARCHAR(10) NULL, middleinitial VARCHAR(1) NULL, lastname VARCHAR(12) NULL, gender VARCHAR(1) NULL, email VARCHAR(32) NULL, fathername VARCHAR(20) NULL, mothername VARCHAR(20) NULL, mothermaidenname VARCHAR(11) NULL, dateofbirth VARCHAR(10) NULL, timeofbirth VARCHAR(11) NULL, ageinyrs INT NULL, weightinkgs INT NULL, dateofjoining VARCHAR(10) NULL, quarterofjoining VARCHAR(2) NULL, halfofjoining VARCHAR(2) NULL, yearofjoining INT NULL, monthofjoining INT NULL, monthnameofjoining VARCHAR(9) NULL, shortmonth VARCHAR(3) NULL, dayofjoining INT NULL, dowofjoining VARCHAR(9) NULL, shortdow VARCHAR(3) NULL, ageincompanyyears INT NULL, salary INT NULL, lasthike VARCHAR(3) NULL, ssn VARCHAR(11) NULL, phoneno VARCHAR(12) NULL, placename VARCHAR(14) NULL, county VARCHAR(20) NULL, city VARCHAR(14) NULL, state VARCHAR(2) NULL, zip INT NULL, region VARCHAR(9) NULL, username VARCHAR(14) NULL, password VARCHAR(15) NULL );\") # use your column names here\n",
    "con.commit()\n",
    "\n",
    "df = pandas.read_csv(\"anil_employee_table.csv\")\n",
    "df.to_sql(\"anil_employee_table\", con, if_exists='append', index=False)\n",
    "con.commit()\n",
    "cur.execute(\"select * from anil_employee_table limit 5;\")\n",
    "results = cur.fetchall()\n",
    "print( results)\n",
    "\n"
   ]
  },
  {
   "cell_type": "code",
   "execution_count": null,
   "metadata": {},
   "outputs": [],
   "source": [
    "\n"
   ]
  },
  {
   "cell_type": "code",
   "execution_count": 2,
   "metadata": {},
   "outputs": [
    {
     "name": "stdout",
     "output_type": "stream",
     "text": [
      "Python Query execution time --- 0.0 seconds ---\n",
      "[('MT', 'Proctor', 195570, 195570, 195570.0), ('MO', 'O Fallon', 195442, 195442, 195442.0), ('WV', 'Charleston', 195398, 195398, 195398.0), ('ID', 'Ahsahka', 194847, 194847, 194847.0), ('TX', 'Carrollton', 193108, 193108, 193108.0), ('LA', 'Geismar', 192424, 192424, 192424.0), ('PA', 'Orbisonia', 192041, 192041, 192041.0), ('MO', 'Otterville', 191803, 191803, 191803.0), ('UT', 'Ibapah', 191052, 191052, 191052.0), ('AR', 'Russellville', 190318, 190318, 190318.0), ('NY', 'Albany', 189989, 189989, 189989.0), ('NV', 'Carson City', 186533, 186533, 186533.0), ('IA', 'Moville', 186229, 186229, 186229.0), ('MN', 'Minneapolis', 178656, 178656, 178656.0), ('TX', 'San Antonio', 176365, 176365, 176365.0), ('CA', 'San Jose', 171819, 171819, 171819.0), ('KY', 'Oven Fork', 171077, 171077, 171077.0), ('AZ', 'Tucson', 170419, 170419, 170419.0), ('MN', 'Coleraine', 169348, 169348, 169348.0), ('AL', 'Dixons Mills', 167561, 167561, 167561.0), ('TN', 'Nashville', 167357, 167357, 167357.0), ('WI', 'Poy Sippi', 166472, 166472, 166472.0), ('WA', 'Humptulips', 166110, 166110, 166110.0), ('WV', 'Carolina', 161281, 161281, 161281.0), ('FL', 'Summerfield', 158978, 158978, 158978.0), ('IL', 'Equality', 157171, 157171, 157171.0), ('KY', 'Shelbyville', 155700, 155700, 155700.0), ('GA', 'Reidsville', 155565, 155565, 155565.0), ('IL', 'Forrest', 155184, 155184, 155184.0), ('MI', 'Walloon Lake', 151831, 151831, 151831.0), ('NJ', 'Whitehouse', 150602, 150602, 150602.0), ('SC', 'Pelion', 150233, 150233, 150233.0), ('TX', 'Old Ocean', 149689, 149689, 149689.0), ('IL', 'Smithshire', 142259, 142259, 142259.0), ('WV', 'Orlando', 142145, 142145, 142145.0), ('WY', 'Casper', 140784, 140784, 140784.0), ('NY', 'Marion', 138917, 138917, 138917.0), ('LA', 'Gloster', 138052, 138052, 138052.0), ('IA', 'Bayard', 136174, 136174, 136174.0), ('MN', 'Frontenac', 136093, 136093, 136093.0), ('PA', 'Bridgeport', 135958, 135958, 135958.0), ('MD', 'Dames Quarter', 133797, 133797, 133797.0), ('TN', 'Andersonville', 133035, 133035, 133035.0), ('TX', 'Sabinal', 124906, 124906, 124906.0), ('MA', 'Newton', 121316, 121316, 121316.0), ('OK', 'Bromide', 120580, 120580, 120580.0), ('KS', 'Fowler', 119813, 119813, 119813.0), ('MD', 'Hyattsville', 118687, 118687, 118687.0), ('OK', 'Marland', 118535, 118535, 118535.0), ('OH', 'Dayton', 118111, 118111, 118111.0)]\n"
     ]
    }
   ],
   "source": [
    "\n",
    "\n",
    "import time\n",
    "start_time = time.time()\n",
    "\n",
    "## TEST SQL query\n",
    "cur.execute(\" select state,city , max(salary) as max_salary, min(salary) as min_salary ,avg(salary) as avg_salary from anil_employee_table  where salary > (select avg(salary) from anil_employee_table)  group by state,city order by max_salary desc;\")\n",
    "results = cur.fetchall()\n",
    "\n",
    "python_ExecutionTime= (time.time() - start_time)\n",
    "print(\"Python Query execution time --- %s seconds ---\" % python_ExecutionTime)\n",
    "\n",
    "print( results)\n",
    "cur.close()\n",
    "con.close()\n",
    "\n"
   ]
  },
  {
   "cell_type": "code",
   "execution_count": null,
   "metadata": {},
   "outputs": [],
   "source": []
  }
 ],
 "metadata": {
  "kernelspec": {
   "display_name": "Python 3",
   "language": "python",
   "name": "python3"
  },
  "language_info": {
   "codemirror_mode": {
    "name": "ipython",
    "version": 3
   },
   "file_extension": ".py",
   "mimetype": "text/x-python",
   "name": "python",
   "nbconvert_exporter": "python",
   "pygments_lexer": "ipython3",
   "version": "3.7.0"
  }
 },
 "nbformat": 4,
 "nbformat_minor": 2
}
